{
  "nbformat": 4,
  "nbformat_minor": 0,
  "metadata": {
    "colab": {
      "name": "LVIAutomationUsingNN.ipynb",
      "version": "0.3.2",
      "provenance": [],
      "collapsed_sections": []
    },
    "kernelspec": {
      "name": "python3",
      "display_name": "Python 3"
    }
  },
  "cells": [
    {
      "cell_type": "code",
      "metadata": {
        "id": "MKrKpQY9yacd",
        "colab_type": "code",
        "outputId": "2450bf17-e59f-4cb0-b852-ad9361e2a9de",
        "colab": {
          "base_uri": "https://localhost:8080/",
          "height": 121
        }
      },
      "source": [
        "# Load the Drive helper and mount\n",
        "from google.colab import drive\n",
        "\n",
        "# This will prompt for authorization.\n",
        "drive.mount('/content/drive')"
      ],
      "execution_count": 0,
      "outputs": [
        {
          "output_type": "stream",
          "text": [
            "Go to this URL in a browser: https://accounts.google.com/o/oauth2/auth?client_id=947318989803-6bn6qk8qdgf4n4g3pfee6491hc0brc4i.apps.googleusercontent.com&redirect_uri=urn%3Aietf%3Awg%3Aoauth%3A2.0%3Aoob&scope=email%20https%3A%2F%2Fwww.googleapis.com%2Fauth%2Fdocs.test%20https%3A%2F%2Fwww.googleapis.com%2Fauth%2Fdrive%20https%3A%2F%2Fwww.googleapis.com%2Fauth%2Fdrive.photos.readonly%20https%3A%2F%2Fwww.googleapis.com%2Fauth%2Fpeopleapi.readonly&response_type=code\n",
            "\n",
            "Enter your authorization code:\n",
            "··········\n",
            "Mounted at /content/drive\n"
          ],
          "name": "stdout"
        }
      ]
    },
    {
      "cell_type": "code",
      "metadata": {
        "id": "VQqnLTE_ypWw",
        "colab_type": "code",
        "outputId": "8743bf6a-800f-4ce2-b328-325251a1c406",
        "colab": {
          "base_uri": "https://localhost:8080/",
          "height": 34
        }
      },
      "source": [
        "cd drive/My Drive/Medical_LV_Identification"
      ],
      "execution_count": 0,
      "outputs": [
        {
          "output_type": "stream",
          "text": [
            "/content/drive/My Drive/Medical_LV_Identification\n"
          ],
          "name": "stdout"
        }
      ]
    },
    {
      "cell_type": "code",
      "metadata": {
        "id": "pnL-Tuu3y1pB",
        "colab_type": "code",
        "outputId": "61c896a0-9027-4909-fd9b-06400f095697",
        "colab": {
          "base_uri": "https://localhost:8080/",
          "height": 101
        }
      },
      "source": [
        "pip install dicom"
      ],
      "execution_count": 0,
      "outputs": [
        {
          "output_type": "stream",
          "text": [
            "Collecting dicom\n",
            "\u001b[?25l  Downloading https://files.pythonhosted.org/packages/6c/0e/488becc361f1416f6682a9b9c223eb6a9db2d5d093fb46ea91c762eb6e4a/dicom-0.9.9.post1-py3-none-any.whl (766kB)\n",
            "\u001b[K     |████████████████████████████████| 768kB 4.7MB/s \n",
            "\u001b[?25hInstalling collected packages: dicom\n",
            "Successfully installed dicom-0.9.9.post1\n"
          ],
          "name": "stdout"
        }
      ]
    },
    {
      "cell_type": "markdown",
      "metadata": {
        "id": "WSycyKwD-8NN",
        "colab_type": "text"
      },
      "source": [
        "Importing required packages"
      ]
    },
    {
      "cell_type": "code",
      "metadata": {
        "id": "sEj_5pcBy4rD",
        "colab_type": "code",
        "outputId": "f97551bb-e66e-47c5-f2ab-5ffab6489584",
        "colab": {
          "base_uri": "https://localhost:8080/",
          "height": 168
        }
      },
      "source": [
        "import pickle\n",
        "import utils\n",
        "import matplotlib.pyplot as plt \n",
        "import numpy as np\n",
        "import imp\n",
        "import cv2\n",
        "%matplotlib inline\n",
        "import pandas as pd\n",
        "import json\n",
        "import glob\n",
        "import dicom\n",
        "from matplotlib.path import Path\n",
        "\n",
        "import keras\n",
        "from keras.preprocessing.image import ImageDataGenerator\n",
        "from keras.models import Sequential\n",
        "from keras.layers import Dense, Dropout, Activation, Flatten, Reshape\n",
        "from keras.layers import Conv2D, MaxPooling2D, AveragePooling2D\n",
        "from keras.preprocessing.image import ImageDataGenerator\n",
        "from keras import regularizers\n",
        "from keras.losses import mean_squared_error\n",
        "\n",
        "from utils import *\n",
        "\n",
        "import glob\n",
        "import matplotlib.patches as patches\n",
        "from sklearn.utils import shuffle\n",
        "\n",
        "from keras.layers import Input,Dense, Dropout, Activation, Flatten, Reshape, Conv2D, MaxPooling2D, AveragePooling2D\n",
        "from keras import regularizers\n",
        "from keras.losses import mean_squared_error\n",
        "from keras import losses\n"
      ],
      "execution_count": 0,
      "outputs": [
        {
          "output_type": "stream",
          "text": [
            "/usr/local/lib/python3.6/dist-packages/dicom/__init__.py:53: UserWarning: \n",
            "This code is using an older version of pydicom, which is no longer \n",
            "maintained as of Jan 2017.  You can access the new pydicom features and API \n",
            "by installing `pydicom` from PyPI.\n",
            "See 'Transitioning to pydicom 1.x' section at pydicom.readthedocs.org \n",
            "for more information.\n",
            "\n",
            "  warnings.warn(msg)\n",
            "Using TensorFlow backend.\n"
          ],
          "name": "stderr"
        }
      ]
    },
    {
      "cell_type": "markdown",
      "metadata": {
        "id": "_e_rt-VRzV_O",
        "colab_type": "text"
      },
      "source": [
        "Util Functions for CNN training"
      ]
    },
    {
      "cell_type": "code",
      "metadata": {
        "id": "VfIqPMzv0Xh-",
        "colab_type": "code",
        "colab": {}
      },
      "source": [
        "def get_roi(image, contour, shape_out = 32):\n",
        "    \"\"\"\n",
        "    Create a binary mask with ROI from contour. \n",
        "    Extract the maximum square around the contour.\n",
        "    :param image: input image (needed for shape only)\n",
        "    :param contour: numpy array contour (d, 2)\n",
        "    :return: numpy array mask ROI (shape_out, shape_out)\n",
        "    \"\"\"\n",
        "    X_min, Y_min = contour[:,0].min(), contour[:,1].min()\n",
        "    X_max, Y_max = contour[:,0].max(), contour[:,1].max()  \n",
        "    w = X_max - X_min\n",
        "    h = Y_max - Y_min\n",
        "    mask_roi = np.zeros(image.shape)\n",
        "    if w > h :\n",
        "        mask_roi[int(Y_min - (w -h)/2):int(Y_max + (w -h)/2), int(X_min):int(X_max)] = 1.0\n",
        "    else :\n",
        "        mask_roi[int(Y_min):int(Y_max), int(X_min - (h-w)/2):int(X_max + (h -w)/2)] = 1.0\n",
        "    return cv2.resize(mask_roi, (shape_out, shape_out), interpolation = cv2.INTER_NEAREST)"
      ],
      "execution_count": 0,
      "outputs": []
    },
    {
      "cell_type": "code",
      "metadata": {
        "id": "FE4l_BA4zIUt",
        "colab_type": "code",
        "colab": {}
      },
      "source": [
        "\n",
        "def create_datasetx(image_shape=64, n_set='train', original_image_shape=256, \n",
        "                   roi_shape=32, data_path='./Data/'):\n",
        "    \"\"\"\n",
        "    Creating the dataset from the images and the contour for the CNN.\n",
        "    :param image_shape: image dataset desired size\n",
        "    :param original_image_shape: original image size\n",
        "    :param roi_shape: binary ROI mask shape\n",
        "    :param data_path: path for the dataset\n",
        "    :return: correct size image dataset, full size image dataset, label (contours) dataset\n",
        "    \"\"\"\n",
        "    \n",
        "    if n_set == 'train':\n",
        "        number_set = 3\n",
        "        name_set = 'Training'\n",
        "    elif n_set == 'test':\n",
        "        number_set = 3\n",
        "        name_set = 'Training'         \n",
        "    # Create dataset\n",
        "    #series = json.load(open('series_case.json'))[n_set]\n",
        "    # Extra code start\n",
        "    InputData= {\"train\":\n",
        "        {\n",
        "         \"SC-HF-NI-3\" : \"0379\",\n",
        "         \"SC-HF-I-40\" : \"0134\",\n",
        "         \"SC-HF-I-2\" : \"0106\",\n",
        "         \"SC-HF-I-1\" : \"0004\",\n",
        "         \"SC-N-3\" : \"0915\",\n",
        "         \"SC-HYP-38\" : \"0734\",\n",
        "         \"SC-HF-I-11\" :\"0043\",\n",
        "         \"SC-HF-I-12\" :\"0062\",\n",
        "         \"SC-HF-I-4\" : \"0116\",\n",
        "         \n",
        "         \"SC-N-9\" :\"1031\",\n",
        "          \"SC-N-10\" :\"0851\",\n",
        "          \"SC-N-11\" :\"0878\",\n",
        "          \"SC-HYP-9\" : \"0003\",\n",
        "          \"SC-HYP-10\" : \"0579\",\n",
        "          \"SC-HYP-11\" : \"0601\",\n",
        "          \"SC-HYP-12\" : \"0629\",\n",
        "          \"SC-HF-NI-12\" :\"0286\",\n",
        "           \"SC-HF-NI-13\" :\"0304\",\n",
        "           \"SC-HF-NI-14\" :\"0331\",\n",
        "           \"SC-HF-NI-15\" :\"0359\",\n",
        "           \"SC-HF-I-9\" :\"0241\",\n",
        "           \"SC-HF-I-10\" :\"0024\"},\n",
        "                \n",
        "                \n",
        "        \"test\":\n",
        "        {\"SC-N-40\" : \"0944\",\n",
        "         \"SC-N-2\" : \"0898\",\n",
        "         \"SC-HYP-40\" : \"0755\",\n",
        "         \"SC-HYP-3\" : \"0650\",\n",
        "         \"SC-HYP-1\" : \"0550\",\n",
        "         \"SC-HF-NI-36\" : \"0474\",\n",
        "         \"SC-HF-NI-34\" : \"0446\",\n",
        "         \"SC-HF-NI-4\" : \"0501\"\n",
        "        }\n",
        "      }\n",
        "    series=InputData[n_set]    \n",
        "    \n",
        "    # Extra code end\n",
        "    images, images_fullsize, contours, contour_mask = [], [], [], []\n",
        "    # Loop over the series\n",
        "    for case, serie in series.items():\n",
        "        image_path_base = data_path + 'challenge_%s/%s/IM-%s' % (name_set.lower(),case, serie)\n",
        "        contour_path_base = data_path + 'Sunnybrook Cardiac MR Database ContoursPart%s/\\\n",
        "%sDataContours/%s/contours-manual/IRCCI-expert/' % (number_set, name_set, case)\n",
        "        contours_list = glob.glob(contour_path_base + '*')\n",
        "        contours_list_series = [k.split('/')[7].split('-')[2] for k in contours_list]\n",
        "        #contours_list_series = [k.split('\\\\')[1].split('-')[2] for k in contours_list]\n",
        "        # Loop over the contours/images\n",
        "        for c in contours_list_series:\n",
        "            # Get contours and images path\n",
        "            idx_contour = contours_list_series.index(c)\n",
        "            image_path = image_path_base + '-%s.dcm' % c\n",
        "            contour_path = contours_list[idx_contour]\n",
        "\n",
        "            # open image as numpy array and resize to (image_shape, image_shape)\n",
        "            image_part = dicom.read_file(image_path).pixel_array  \n",
        "\n",
        "            # open contours as numpy array\n",
        "            contour = []\n",
        "            file = open(contour_path, 'r') \n",
        "            for line in file: \n",
        "                contour.append(tuple(map(float, line.split())))\n",
        "            contour = np.array(contour)\n",
        "            # append binary ROI mask \n",
        "            contours.append(get_roi(image_part, contour))\n",
        "\n",
        "            # create mask contour with experts contours\n",
        "            x, y = np.meshgrid(np.arange(256), np.arange(256)) # make a canvas with coordinates\n",
        "            x, y = x.flatten(), y.flatten()\n",
        "            points = np.vstack((x,y)).T \n",
        "            p = Path(contour) # make a polygon\n",
        "            grid = p.contains_points(points)\n",
        "            mask_contour = grid.reshape(256,256)\n",
        "            mask_contour=mask_contour*1\n",
        "            contour_mask.append(mask_contour)\n",
        "            \n",
        "            # Open image and resize it \n",
        "            images.append(cv2.resize(image_part, (image_shape, image_shape)))\n",
        "            images_fullsize.append(cv2.resize(image_part, (original_image_shape, original_image_shape)))\n",
        "    X_fullsize = np.array(images_fullsize)\n",
        "    X = np.reshape(np.array(images), [len(images), image_shape, image_shape, 1])\n",
        "    Y = np.reshape(np.array(contours), [len(contours), 1, roi_shape, roi_shape])\n",
        "    print('Dataset shape :', X.shape, Y.shape)\n",
        "    return X, X_fullsize, Y, contour_mask\n",
        "\n",
        "def create_model(activation, input_shape=(64, 64)):\n",
        "    \"\"\"\n",
        "    Simple convnet model : one convolution, one average pooling and one fully connected layer\n",
        "    :param activation: None if nothing passed, e.g : ReLu, tanh, etc.\n",
        "    :return: Keras model\n",
        "    \"\"\"\n",
        "    model = Sequential()\n",
        "    model.add(Conv2D(100, (11,11), activation=activation, padding='valid', strides=(1, 1), input_shape=(input_shape[0], input_shape[1], 1)))\n",
        "    model.add(AveragePooling2D((6,6)))\n",
        "    model.add(Reshape([-1, 8100]))\n",
        "    model.add(Dense(1024, activation='sigmoid', kernel_regularizer=regularizers.l2(0.0001)))\n",
        "    model.add(Reshape([-1, 32, 32]))\n",
        "    return model\n",
        "\n",
        "def create_model_maxpooling(activation, input_shape=(64, 64)):\n",
        "    \"\"\"\n",
        "    Simple convnet model with max pooling: one convolution, one max pooling and one fully connected layer\n",
        "    :param activation: None if nothing passed, e.g : ReLu, tanh, etc.\n",
        "    :return: Keras model\n",
        "    \"\"\"\n",
        "    model = Sequential()\n",
        "    model.add(Conv2D(100, (11,11), activation=activation, padding='valid', strides=(1, 1), input_shape=(input_shape[0], input_shape[1], 1)))\n",
        "    model.add(MaxPooling2D((6,6)))\n",
        "    model.add(Reshape([-1, 8100]))\n",
        "    model.add(Dense(1024, activation='sigmoid', kernel_regularizer=regularizers.l2(0.0001)))\n",
        "    model.add(Reshape([-1, 32, 32]))\n",
        "    return model\n",
        "\n",
        "def create_model_larger(activation, input_shape=(64, 64)):\n",
        "    \"\"\"\n",
        "    Larger (more filters) convnet model : one convolution, one average pooling and one fully connected layer:\n",
        "    :param activation: None if nothing passed, e.g : ReLu, tanh, etc. \n",
        "    :return: Keras model\n",
        "    \"\"\"\n",
        "    model = Sequential()\n",
        "    model.add(Conv2D(200, (11,11), activation=activation, padding='valid', strides=(1, 1), input_shape=(input_shape[0], input_shape[1], 1)))\n",
        "    model.add(AveragePooling2D((6,6)))\n",
        "    model.add(Reshape([-1, 16200]))\n",
        "    model.add(Dense(1024, activation='sigmoid', kernel_regularizer=regularizers.l2(0.0001)))\n",
        "    model.add(Reshape([-1, 32, 32]))\n",
        "    return model\n",
        "\n",
        "def create_model_deeper(activation, input_shape=(64, 64)):\n",
        "    \"\"\"\n",
        "    Deeper convnet model : two convolutions, two average pooling and one fully connected layer:\n",
        "    :param activation: None if nothing passed, e.g : ReLu, tanh, etc.\n",
        "    :return: Keras model\n",
        "    \"\"\"\n",
        "    model = Sequential()\n",
        "    model.add(Conv2D(64, (11,11), activation=activation, padding='valid', strides=(1, 1), input_shape=(input_shape[0], input_shape[1], 1)))\n",
        "    model.add(AveragePooling2D((2,2)))\n",
        "    model.add(Conv2D(128, (10, 10), activation=activation, padding='valid', strides=(1, 1)))\n",
        "    model.add(AveragePooling2D((2,2)))\n",
        "    model.add(Reshape([-1, 128*9*9]))\n",
        "    model.add(Dense(1024, activation='sigmoid', kernel_regularizer=regularizers.l2(0.0001)))\n",
        "    model.add(Reshape([-1, 32, 32]))\n",
        "    return model\n",
        "\n",
        "def create_model_full(activation, input_shape=(64, 64)):\n",
        "    model = Sequential()\n",
        "    model.add(Conv2D(64, (11,11), activation=activation, padding='valid', strides=(1, 1), input_shape=(input_shape[0], input_shape[1], 1)))\n",
        "    model.add(MaxPooling2D((2,2)))\n",
        "    model.add(Conv2D(128, (10, 10), activation=activation, padding='valid', strides=(1, 1)))\n",
        "    model.add(MaxPooling2D((2,2)))\n",
        "    model.add(Reshape([-1, 128*9*9]))\n",
        "    model.add(Dense(1024, activation='sigmoid', kernel_regularizer=regularizers.l2(0.0001)))\n",
        "    model.add(Reshape([-1, 32, 32]))\n",
        "    return model\n",
        "\n",
        "def training(m, X, Y, verbose, batch_size=16, epochs=50, data_augm=False):\n",
        "    \"\"\"\n",
        "    Training CNN with the possibility to use data augmentation\n",
        "    :param m: Keras model\n",
        "    :param epochs: number of epochs\n",
        "    :param X: training pictures\n",
        "    :param Y: training binary ROI mask\n",
        "    :return: history\n",
        "    \"\"\"\n",
        "    if data_augm:\n",
        "        datagen = ImageDataGenerator(\n",
        "            featurewise_center=False,  # set input mean to 0 over the dataset\n",
        "            samplewise_center=False,  # set each sample mean to 0\n",
        "            featurewise_std_normalization=False,  # divide inputs by std of the dataset\n",
        "            samplewise_std_normalization=False,  # divide each input by its std\n",
        "            zca_whitening=False,  # apply ZCA whitening\n",
        "            rotation_range=50,  # randomly rotate images in the range (degrees, 0 to 180)\n",
        "            width_shift_range=0.1,  # randomly shift images horizontally (fraction of total width)\n",
        "            height_shift_range=0.1,  # randomly shift images vertically (fraction of total height)\n",
        "            horizontal_flip=True,  # randomly flip images\n",
        "            vertical_flip=False) \n",
        "        print(\"br2------------------\")\n",
        "        datagen.fit(X)\n",
        "        print(\"br3------------------\")\n",
        "        history = m.fit_generator(datagen.flow(X, Y,\n",
        "                                    batch_size=batch_size),\n",
        "                                    steps_per_epoch=X.shape[0] // batch_size,\n",
        "                                    epochs=epochs,\n",
        "                                    verbose=verbose)  \n",
        "        print(\"br4------------------\")       \n",
        "    else:\n",
        "        print(\"br5------------------\")\n",
        "        history = m.fit(X, Y, batch_size=batch_size, epochs=epochs, verbose=verbose)\n",
        "        print(\"br6------------------\")\n",
        "    return history, m\n",
        "\n",
        "def run(model='simple', X_to_pred=None, history=False, verbose=0, activation=None, epochs=20, data_augm=False):\n",
        "    \"\"\"\n",
        "    Full pipeline for CNN: load the dataset, train the model and predict ROIs\n",
        "    :param model: choice between different models e.g simple, larger, deeper, maxpooling\n",
        "    :param activation: None if nothing passed, e.g : ReLu, tanh, etc.\n",
        "    :param epochs: number of epochs\n",
        "    :param X_to_pred: input for predictions after training (X_train if not specified)\n",
        "    :param verbose: int for verbose\n",
        "    :return: X, X_fullsize, Y, y_pred, h (if history boolean passed)\n",
        "    \"\"\"\n",
        "    X, X_fullsize, Y, contour_mask = create_datasetx()\n",
        "    if model == 'simple':\n",
        "        m = create_model(activation=activation)\n",
        "    elif model == 'larger':\n",
        "        m = create_model_larger(activation=activation)\n",
        "    elif model == 'deeper':\n",
        "        m = create_model_deeper(activation=activation)\n",
        "    elif model == 'maxpooling':\n",
        "        m = create_model_maxpooling(activation=activation)\n",
        "    elif model =='full':\n",
        "        m = create_model_full(activation=activation)\n",
        "\n",
        "    m.compile(loss='mean_squared_error',\n",
        "              optimizer='adam',\n",
        "              metrics=['accuracy'])\n",
        "    if verbose > 0:\n",
        "        print('Size for each layer :\\nLayer, Input Size, Output Size')\n",
        "        for p in m.layers:\n",
        "            print(p.name.title(), p.input_shape, p.output_shape)\n",
        "    print(\"---------br1\")\n",
        "    h, m = training(m, X, Y, verbose=verbose, batch_size=16, epochs=epochs, data_augm=data_augm)\n",
        "\n",
        "    if not X_to_pred:\n",
        "        X_to_pred = X\n",
        "    y_pred = m.predict(X_to_pred, batch_size=16)\n",
        "    \n",
        "    if history:\n",
        "        return X, X_fullsize, Y, contour_mask, y_pred, h, m\n",
        "    else:\n",
        "        return X, X_fullsize, Y, contour_mask, y_pred, m\n",
        "\n",
        "def inference(model):\n",
        "    X_test, X_fullsize_test, Y_test, contour_mask_test = create_datasetx(n_set='test')\n",
        "    y_pred = model.predict(X_test, batch_size=16)\n",
        "    return X_test, X_fullsize_test, Y_test, contour_mask_test, y_pred\n"
      ],
      "execution_count": 0,
      "outputs": []
    },
    {
      "cell_type": "markdown",
      "metadata": {
        "id": "fDjwUV_M_OM7",
        "colab_type": "text"
      },
      "source": [
        "Training CNN:"
      ]
    },
    {
      "cell_type": "code",
      "metadata": {
        "id": "7Hd-HYyezRmi",
        "colab_type": "code",
        "outputId": "fb1951b3-29c8-4b21-8836-fbc6058b10ce",
        "colab": {
          "base_uri": "https://localhost:8080/",
          "height": 406
        }
      },
      "source": [
        "variants = ['simple', 'larger', 'deeper', 'maxpooling']\n",
        "models_cnn = {k:run(model=k, history=True) for k in variants}"
      ],
      "execution_count": 0,
      "outputs": [
        {
          "output_type": "stream",
          "text": [
            "Dataset shape : (66, 64, 64, 1) (66, 1, 32, 32)\n",
            "WARNING:tensorflow:From /usr/local/lib/python3.6/dist-packages/tensorflow/python/framework/op_def_library.py:263: colocate_with (from tensorflow.python.framework.ops) is deprecated and will be removed in a future version.\n",
            "Instructions for updating:\n",
            "Colocations handled automatically by placer.\n",
            "---------br1\n",
            "br5------------------\n",
            "WARNING:tensorflow:From /usr/local/lib/python3.6/dist-packages/tensorflow/python/ops/math_ops.py:3066: to_int32 (from tensorflow.python.ops.math_ops) is deprecated and will be removed in a future version.\n",
            "Instructions for updating:\n",
            "Use tf.cast instead.\n",
            "br6------------------\n",
            "Dataset shape : (66, 64, 64, 1) (66, 1, 32, 32)\n",
            "---------br1\n",
            "br5------------------\n",
            "br6------------------\n",
            "Dataset shape : (66, 64, 64, 1) (66, 1, 32, 32)\n",
            "---------br1\n",
            "br5------------------\n",
            "br6------------------\n",
            "Dataset shape : (66, 64, 64, 1) (66, 1, 32, 32)\n",
            "---------br1\n",
            "br5------------------\n",
            "br6------------------\n"
          ],
          "name": "stdout"
        }
      ]
    },
    {
      "cell_type": "code",
      "metadata": {
        "id": "X6Uy169p5deD",
        "colab_type": "code",
        "outputId": "7e2ae82e-4cbb-4642-d8fe-f6f7baa36aec",
        "colab": {
          "base_uri": "https://localhost:8080/",
          "height": 84
        }
      },
      "source": [
        "models_cnn['relu'] = run(model='simple', history=True, activation='relu')"
      ],
      "execution_count": 0,
      "outputs": [
        {
          "output_type": "stream",
          "text": [
            "Dataset shape : (66, 64, 64, 1) (66, 1, 32, 32)\n",
            "---------br1\n",
            "br5------------------\n",
            "br6------------------\n"
          ],
          "name": "stdout"
        }
      ]
    },
    {
      "cell_type": "markdown",
      "metadata": {
        "id": "STS9PiNr_US0",
        "colab_type": "text"
      },
      "source": [
        "Plotting All models:"
      ]
    },
    {
      "cell_type": "code",
      "metadata": {
        "id": "HPgTrftd1JiP",
        "colab_type": "code",
        "outputId": "c54a5a49-0150-4d63-aeb9-edcc60b2a5de",
        "colab": {
          "base_uri": "https://localhost:8080/",
          "height": 474
        }
      },
      "source": [
        "plt.figure(figsize=(10,7))\n",
        "for k, v in models_cnn.items():\n",
        "    it = range(len(v[5].history['loss']))\n",
        "    plt.plot(it, v[5].history['loss'], label=k)\n",
        "plt.ylabel('loss')\n",
        "plt.xlabel('epochs')\n",
        "plt.title(\"Learning curves\")\n",
        "plt.legend()"
      ],
      "execution_count": 0,
      "outputs": [
        {
          "output_type": "execute_result",
          "data": {
            "text/plain": [
              "<matplotlib.legend.Legend at 0x7f4deaa2ea58>"
            ]
          },
          "metadata": {
            "tags": []
          },
          "execution_count": 9
        },
        {
          "output_type": "display_data",
          "data": {
            "image/png": "[encoded data removed]",
            "text/plain": [
              "<Figure size 720x504 with 1 Axes>"
            ]
          },
          "metadata": {
            "tags": []
          }
        }
      ]
    },
    {
      "cell_type": "markdown",
      "metadata": {
        "id": "T18f0sfR_Zbv",
        "colab_type": "text"
      },
      "source": [
        "Predicting on CNN Model:"
      ]
    },
    {
      "cell_type": "code",
      "metadata": {
        "id": "KNICNdSI54VL",
        "colab_type": "code",
        "outputId": "fd3b280d-a08c-4256-ea31-9d42b758c871",
        "colab": {
          "base_uri": "https://localhost:8080/",
          "height": 101
        }
      },
      "source": [
        "a = {k:inference(v[6]) for k,v in models_cnn.items()}"
      ],
      "execution_count": 0,
      "outputs": [
        {
          "output_type": "stream",
          "text": [
            "Dataset shape : (91, 64, 64, 1) (91, 1, 32, 32)\n",
            "Dataset shape : (91, 64, 64, 1) (91, 1, 32, 32)\n",
            "Dataset shape : (91, 64, 64, 1) (91, 1, 32, 32)\n",
            "Dataset shape : (91, 64, 64, 1) (91, 1, 32, 32)\n",
            "Dataset shape : (91, 64, 64, 1) (91, 1, 32, 32)\n"
          ],
          "name": "stdout"
        }
      ]
    },
    {
      "cell_type": "markdown",
      "metadata": {
        "id": "lhHQszINPm8D",
        "colab_type": "text"
      },
      "source": [
        ""
      ]
    },
    {
      "cell_type": "markdown",
      "metadata": {
        "id": "ec02gBCp6tl2",
        "colab_type": "text"
      },
      "source": [
        "**Util functions for stacked ae**"
      ]
    },
    {
      "cell_type": "code",
      "metadata": {
        "id": "libL3N1T6zrH",
        "colab_type": "code",
        "colab": {}
      },
      "source": [
        "def open_data_AE(X_fullsize, y_pred, contour_mask):\n",
        "    \"\"\"\n",
        "    Open dataset from the output of the CNN and\n",
        "    unroll it as 64*64 = vector of 4096 elements\n",
        "    :param X_fullsize: full size training set (256x256)\n",
        "    :param y_pred: CNN output\n",
        "    :return: input AE, output\n",
        "    \"\"\"\n",
        "    input_AE = []\n",
        "    contour_experts = []\n",
        "    for j in range(y_pred.shape[0]):\n",
        "        in_AE = cv2.resize(compute_roi_pred(X_fullsize, y_pred, contour_mask, j, roi_shape=32)[0],(64 , 64))\n",
        "        contour = cv2.resize(compute_roi_pred(X_fullsize, y_pred, contour_mask, j)[2], (64,64), interpolation = cv2.INTERSECT_NONE)\n",
        "        input_AE.append(in_AE)\n",
        "        contour_experts.append(contour)\n",
        "    return np.array(input_AE).reshape((-1, 64*64)), np.array(contour_experts).reshape((-1, 64*64))\n",
        "\n",
        "def customized_loss(y_true, y_pred, alpha=0.0001, beta=3):\n",
        "    \"\"\"\n",
        "    Create a customized loss for the stacked AE.\n",
        "    Linear combination of MSE and KL divergence.\n",
        "    \"\"\"\n",
        "    #customize your own loss components\n",
        "    loss1 = losses.mean_absolute_error(y_true, y_pred)\n",
        "    loss2 = losses.kullback_leibler_divergence(y_true, y_pred)\n",
        "    #adjust the weight between loss components\n",
        "    return (alpha/2) * loss1 + beta * loss2\n",
        "\n",
        "def model1(X_train, param_reg, get_history=False, verbose=0,loss = \"customized_loss\"):\n",
        "    \"\"\"\n",
        "    First part of the stacked AE.\n",
        "    Train the AE on the ROI input images.\n",
        "    :param X_train: ROI input image\n",
        "    :param get_history: boolean to return the loss history\n",
        "    :param loss: if \"customized_loss\" -> customized_loss\n",
        "    :return: encoded ROI image\n",
        "    \"\"\"\n",
        "    autoencoder_0 = Sequential()\n",
        "    encoder_0 = Dense(input_dim=4096, units=100, kernel_regularizer=regularizers.l2(param_reg))\n",
        "    decoder_0 = Dense(input_dim=100, units=4096, kernel_regularizer=regularizers.l2(param_reg))\n",
        "    autoencoder_0.add(encoder_0)\n",
        "    autoencoder_0.add(decoder_0)\n",
        "    if (loss == \"customized_loss\"):\n",
        "        loss = customized_loss\n",
        "    autoencoder_0.compile(loss = loss,optimizer='adam', metrics=['accuracy'])\n",
        "    h = autoencoder_0.fit(X_train, X_train, epochs=100, verbose=verbose)\n",
        "\n",
        "    temp_0 = Sequential()\n",
        "    temp_0.add(encoder_0)\n",
        "    temp_0.compile(loss=loss, optimizer='adam', metrics=['accuracy'])\n",
        "    encoded_X = temp_0.predict(X_train, verbose=0)\n",
        "    if get_history:\n",
        "        return h.history['loss'], encoded_X, encoder_0\n",
        "    else:\n",
        "        return encoded_X, encoder_0\n",
        "\n",
        "def model2(encoder_0, encoded_X, X_train, param_reg, get_history=False, verbose=0,loss = \"customized_loss\"):\n",
        "    \"\"\"\n",
        "    Second part of the stacked AE.\n",
        "    :param X_train: encoder ROI image\n",
        "    :param get_history: boolean to return the loss history\n",
        "    :return: encoding layer\n",
        "    \"\"\"\n",
        "    autoencoder_1 = Sequential()\n",
        "    encoder_1 = Dense(input_dim=100, units=100, kernel_regularizer=regularizers.l2(param_reg))\n",
        "    decoder_1 = Dense(input_dim=100, units=100, kernel_regularizer=regularizers.l2(param_reg))\n",
        "    autoencoder_1.add(encoder_1)\n",
        "    autoencoder_1.add(decoder_1)\n",
        "    if (loss == \"customized_loss\"):\n",
        "        loss = customized_loss\n",
        "    autoencoder_1.compile(loss= loss, optimizer='adam', metrics=['accuracy'])\n",
        "    h = autoencoder_1.fit(encoded_X, encoded_X, epochs=100, verbose=verbose)\n",
        "\n",
        "    temp_0 = Sequential()\n",
        "    temp_0.add(encoder_0)\n",
        "    temp_0.compile(loss= loss, optimizer='adam', metrics=['accuracy'])\n",
        "    encoded_X = temp_0.predict(X_train, verbose=0)\n",
        "    if get_history:\n",
        "        return h.history['loss'], encoder_1\n",
        "    else:\n",
        "        return encoder_1\n",
        "\n",
        "def model3(X_train, Y_train, encoder_0, encoder_1, init, param_reg,\n",
        "           get_history=False, verbose=0,loss = \"MSE\"):\n",
        "    \"\"\"\n",
        "    Last part of the stacked AE.\n",
        "    :param X_train: ROI input image\n",
        "    :param init: set the initial kernel weights (None for uniform)\n",
        "    :param get_history: boolean to return the loss history\n",
        "    :return: final model\n",
        "    \"\"\"\n",
        "    model = Sequential()\n",
        "    model.add(encoder_0)\n",
        "    model.add(encoder_1)\n",
        "    model.add(Dense(input_dim=100, units=4096, kernel_initializer=init, kernel_regularizer=regularizers.l2(param_reg)))\n",
        "    if (loss == \"customized_loss\"):\n",
        "        loss = customized_loss\n",
        "    model.compile(optimizer = 'adam', loss = loss, metrics=['accuracy'])\n",
        "    h = model.fit(X_train, Y_train, epochs=20, verbose=verbose)\n",
        "    if get_history:\n",
        "        return h.history['loss'], model\n",
        "    else:\n",
        "        return model\n",
        "\n",
        "def runAE(X_fullsize, y_pred, contour_mask, X_to_pred=None, verbose=0, param_reg=3*0.001, init_3='zero',history=False ,loss1 = \"customized_loss\",loss2 = \"customized_loss\",loss3 = \"MSE\"):\n",
        "    \"\"\"\n",
        "    Full pipeline for CNN: load the dataset, train the model and predict ROIs\n",
        "    :param X_fullsize: full size training set (256x256)\n",
        "    :param y_pred: CNN output for training\n",
        "    :param X_to_pred: input for predictions after training (X_train if not specified)\n",
        "    :param verbose: int for verbose\n",
        "    :return: X_train, Y_train, contours_pred\n",
        "    \"\"\"\n",
        "    X_train, Y_train = open_data_AE(X_fullsize, y_pred, contour_mask)\n",
        "    encoded_X, encoder_0 = model1(X_train, param_reg=param_reg,loss = loss1)\n",
        "    encoder_1 = model2(encoder_0, encoded_X, X_train, param_reg=param_reg,loss = loss2)\n",
        "    h, model = model3(X_train, Y_train, encoder_0, encoder_1, param_reg=param_reg, \n",
        "        init=init_3, get_history=True, verbose=verbose,loss = loss3)\n",
        "    if not X_to_pred:\n",
        "        X_to_pred = X_train\n",
        "    contours = model.predict(X_to_pred)\n",
        "    binarys = np.array([cv2.threshold(contour, 0, 1, cv2.INTERSECT_NONE)[1].reshape((64,64)) for contour in contours])\n",
        "    if history:\n",
        "        return X_train, Y_train, binarys, model, h \n",
        "    else:\n",
        "        return X_train, Y_train, binarys, model\n",
        "\n",
        "def inferenceAE(X_fullsize, y_pred, contour_mask, model):\n",
        "    X_test, Y_test = open_data_AE(X_fullsize, y_pred, contour_mask)\n",
        "    contours = model.predict(X_test)\n",
        "    binarys = np.array([cv2.threshold(contour, 0, 1, cv2.INTERSECT_NONE)[1].reshape((64,64)) for contour in contours])\n",
        "    return X_test, Y_test, binarys"
      ],
      "execution_count": 0,
      "outputs": []
    },
    {
      "cell_type": "markdown",
      "metadata": {
        "id": "z77Ca62R_jHs",
        "colab_type": "text"
      },
      "source": [
        "Training AE (Auto encoders.. Extended pard to CNN)"
      ]
    },
    {
      "cell_type": "code",
      "metadata": {
        "id": "FDhK__lc6P9W",
        "colab_type": "code",
        "colab": {}
      },
      "source": [
        "models_stackedae = {k:runAE(v[1], v[4], v[3]) for k,v in models_cnn.items()}"
      ],
      "execution_count": 0,
      "outputs": []
    },
    {
      "cell_type": "markdown",
      "metadata": {
        "id": "WQE0-RAC_t6d",
        "colab_type": "text"
      },
      "source": [
        "Predicting on AE Model"
      ]
    },
    {
      "cell_type": "code",
      "metadata": {
        "id": "EzdlF9fa7mHX",
        "colab_type": "code",
        "colab": {}
      },
      "source": [
        "inference_sae = {k:inferenceAE(v[1], v[4], v[3], models_stackedae[k][3]) for k,v in a.items()}"
      ],
      "execution_count": 0,
      "outputs": []
    },
    {
      "cell_type": "code",
      "metadata": {
        "id": "6P5usiZk8i3I",
        "colab_type": "code",
        "colab": {}
      },
      "source": [
        "metrics_test = {k:utils.stats_results(v[1], v[2]) for k,v in inference_sae.items()}"
      ],
      "execution_count": 0,
      "outputs": []
    },
    {
      "cell_type": "markdown",
      "metadata": {
        "id": "1g4hlkhV_0cN",
        "colab_type": "text"
      },
      "source": [
        "Plotting Test image and predictions on different models"
      ]
    },
    {
      "cell_type": "code",
      "metadata": {
        "id": "-rRBYmFK8PRH",
        "colab_type": "code",
        "outputId": "052d0406-ad83-412f-98fa-79e01fbbaab4",
        "colab": {
          "base_uri": "https://localhost:8080/",
          "height": 232
        }
      },
      "source": [
        "idx = 20\n",
        "f, ax = plt.subplots(ncols=len(metrics_test)+2, figsize=(20,5))\n",
        "for i, (model, v) in enumerate(inference_sae.items()):\n",
        "    ax[i].imshow(v[2][idx])\n",
        "    ax[i].set_title('%s\\nMean DM: %.2f' % (model, metrics_test[model][0].mean()))\n",
        "#     cv2.imwrite('./Rapport/images/results_%s_img%s.png' % (model,idx), v[2][idx]*255)\n",
        "ax[5].imshow(v[1][idx].reshape((64,64)))\n",
        "ax[5].set_title('Ground Truth')\n",
        "\n",
        "ax[6].imshow(v[1][idx].reshape((64,64))*v[0][idx].reshape((64,64)))\n",
        "ax[6].set_title('Ground Truth')"
      ],
      "execution_count": 0,
      "outputs": [
        {
          "output_type": "execute_result",
          "data": {
            "text/plain": [
              "Text(0.5, 1.0, 'Ground Truth')"
            ]
          },
          "metadata": {
            "tags": []
          },
          "execution_count": 16
        },
        {
          "output_type": "display_data",
          "data": {
            "image/png": "[encoded data removed]",
            "text/plain": [
              "<Figure size 1440x360 with 7 Axes>"
            ]
          },
          "metadata": {
            "tags": []
          }
        }
      ]
    },
    {
      "cell_type": "code",
      "metadata": {
        "id": "EM4BzkBN8Yxf",
        "colab_type": "code",
        "outputId": "61035026-dc7c-4656-a5e7-df187df3b59e",
        "colab": {
          "base_uri": "https://localhost:8080/",
          "height": 286
        }
      },
      "source": [
        "i = v[1][idx].reshape((64,64))*v[0][idx].reshape((64,64))\n",
        "plt.imshow(v[0][idx].reshape((64,64)), cmap='gray')"
      ],
      "execution_count": 0,
      "outputs": [
        {
          "output_type": "execute_result",
          "data": {
            "text/plain": [
              "<matplotlib.image.AxesImage at 0x7f4de3925198>"
            ]
          },
          "metadata": {
            "tags": []
          },
          "execution_count": 17
        },
        {
          "output_type": "display_data",
          "data": {
            "image/png": "[encoded data removed]",
            "text/plain": [
              "<Figure size 432x288 with 1 Axes>"
            ]
          },
          "metadata": {
            "tags": []
          }
        }
      ]
    },
    {
      "cell_type": "code",
      "metadata": {
        "id": "uvjDC-Ka8qi1",
        "colab_type": "code",
        "outputId": "70c3d38c-8f9b-419d-f3ba-4592e7647252",
        "colab": {
          "base_uri": "https://localhost:8080/",
          "height": 272
        }
      },
      "source": [
        "from skimage import measure\n",
        "# Find contours at a constant value of 0.8\n",
        "contours_truth = measure.find_contours(v[1][idx].reshape((64,64)), 0.8)\n",
        "contours_larger = measure.find_contours(inference_sae['larger'][2][idx], 0.8)\n",
        "fig, ax = plt.subplots()\n",
        "ax.imshow(v[0][idx].reshape((64,64)), cmap='gray')\n",
        "\n",
        "#for n, contour in enumerate(contours_truth):\n",
        "    #ax.plot(contour[:, 1], contour[:, 0], linewidth=2, color='green', label='Ground Truth')\n",
        "for n, contour in enumerate(contours_larger):\n",
        "    ax.plot(contour[:, 1], contour[:, 0], linewidth=2, color='red', label='Prediction')\n",
        "    \n",
        "ax.axis('image')\n",
        "ax.set_xticks([])\n",
        "ax.set_yticks([])\n",
        "plt.legend(bbox_to_anchor=(1,1))\n",
        "#plt.savefig('./Rapport/images/image_with_contour_truth_pred.png')"
      ],
      "execution_count": 0,
      "outputs": [
        {
          "output_type": "execute_result",
          "data": {
            "text/plain": [
              "<matplotlib.legend.Legend at 0x7f4dd9c5b2e8>"
            ]
          },
          "metadata": {
            "tags": []
          },
          "execution_count": 18
        },
        {
          "output_type": "display_data",
          "data": {
            "image/png": "[encoded data removed]",
            "text/plain": [
              "<Figure size 432x288 with 1 Axes>"
            ]
          },
          "metadata": {
            "tags": []
          }
        }
      ]
    },
    {
      "cell_type": "markdown",
      "metadata": {
        "id": "ZZxQOvcZAIby",
        "colab_type": "text"
      },
      "source": [
        "Change numbers to get predictions for different images...i.e idx"
      ]
    },
    {
      "cell_type": "markdown",
      "metadata": {
        "id": "mM472x3n9BzH",
        "colab_type": "text"
      },
      "source": [
        "**DONE THANKS**"
      ]
    },
    {
      "cell_type": "markdown",
      "metadata": {
        "id": "yP0ixc6ZASgq",
        "colab_type": "text"
      },
      "source": [
        "Below is extra code... With some more test scenarios"
      ]
    },
    {
      "cell_type": "code",
      "metadata": {
        "id": "L5SVPiwc9EAX",
        "colab_type": "code",
        "colab": {}
      },
      "source": [
        "try:\n",
        "    _, X_fullsize, _, contour_mask, y_pred, h, m = models_cnn['simple']\n",
        "except:\n",
        "    _, X_fullsize, _, contour_mask, y_pred, h, m = train_cnn.run(model='simple', history=True)"
      ],
      "execution_count": 0,
      "outputs": []
    },
    {
      "cell_type": "code",
      "metadata": {
        "id": "v_qaSewn9Iue",
        "colab_type": "code",
        "colab": {}
      },
      "source": [
        "inits = ['zero', 'random_uniform', 'random_normal']\n",
        "models_sae_init = {k:runAE(X_fullsize, y_pred, contour_mask, init_3=k, history=True) for k in inits}"
      ],
      "execution_count": 0,
      "outputs": []
    },
    {
      "cell_type": "code",
      "metadata": {
        "id": "wZ02Ismf9Qrx",
        "colab_type": "code",
        "outputId": "8e0c2c1c-3ce1-4867-fa97-8f428cbc9375",
        "colab": {
          "base_uri": "https://localhost:8080/",
          "height": 295
        }
      },
      "source": [
        "for k, v in models_sae_init.items():\n",
        "    it = range(len(v[4]))\n",
        "    plt.plot(it, v[4], label=k)\n",
        "plt.ylabel('loss')\n",
        "plt.xlabel('epochs')\n",
        "plt.title(\"Learning curve\")\n",
        "plt.legend()\n",
        "plt.xlim([0,8])\n",
        "plt.yscale(\"log\", nonposy='clip')"
      ],
      "execution_count": 0,
      "outputs": [
        {
          "output_type": "display_data",
          "data": {
            "image/png": "[encoded data removed]",
            "text/plain": [
              "<Figure size 432x288 with 1 Axes>"
            ]
          },
          "metadata": {
            "tags": []
          }
        }
      ]
    },
    {
      "cell_type": "code",
      "metadata": {
        "id": "pfI8t5z69oZ7",
        "colab_type": "code",
        "colab": {}
      },
      "source": [
        "loss = [\"customized_loss\", \"MSE\", \"kullback_leibler_divergence\"]\n",
        "models_sae_loss = {'%s + MSE' % l :runAE(X_fullsize, y_pred, contour_mask, history=True, \n",
        "                            loss1=l, loss2=l, loss3=\"MSE\") for l in loss}"
      ],
      "execution_count": 0,
      "outputs": []
    },
    {
      "cell_type": "code",
      "metadata": {
        "id": "mFDY-uUW9rRs",
        "colab_type": "code",
        "colab": {}
      },
      "source": [
        "metrics_sae_loss = {k:utils.stats_results(v[1], v[2]) for k, v in models_sae_loss.items()}"
      ],
      "execution_count": 0,
      "outputs": []
    },
    {
      "cell_type": "code",
      "metadata": {
        "id": "Vx35YG-V-JX4",
        "colab_type": "code",
        "outputId": "73669db1-0ab1-411b-8c0a-019b670e3c50",
        "colab": {
          "base_uri": "https://localhost:8080/",
          "height": 67
        }
      },
      "source": [
        "for k, v in metrics_sae_loss.items():\n",
        "    print('%s - DM :%.1f%%, CC :%.1f' % (k, 100*v[0].mean(), v[1].mean()))"
      ],
      "execution_count": 0,
      "outputs": [
        {
          "output_type": "stream",
          "text": [
            "customized_loss + MSE - DM :4.6%, CC :-90.8\n",
            "MSE + MSE - DM :34.5%, CC :-33.7\n",
            "kullback_leibler_divergence + MSE - DM :6.2%, CC :-38.0\n"
          ],
          "name": "stdout"
        }
      ]
    },
    {
      "cell_type": "code",
      "metadata": {
        "id": "9CxGYq_2-NeS",
        "colab_type": "code",
        "outputId": "bf714b56-3738-433d-c7a9-c19f11604fe7",
        "colab": {
          "base_uri": "https://localhost:8080/",
          "height": 338
        }
      },
      "source": [
        "idx = 45\n",
        "f, ax = plt.subplots(ncols=len(metrics_sae_loss)+1, figsize=(20,5))\n",
        "for i, (model, v) in enumerate(models_sae_loss.items()):\n",
        "    ax[i].imshow(v[2][idx])\n",
        "    ax[i].set_title('%s\\nMean : %.2f' % (model, metrics_sae_loss[model][0].mean()))\n",
        "ax[3].imshow(v[1][idx].reshape((64,64)))\n",
        "ax[3].set_title('Ground Truth')"
      ],
      "execution_count": 0,
      "outputs": [
        {
          "output_type": "execute_result",
          "data": {
            "text/plain": [
              "Text(0.5, 1.0, 'Ground Truth')"
            ]
          },
          "metadata": {
            "tags": []
          },
          "execution_count": 46
        },
        {
          "output_type": "display_data",
          "data": {
            "image/png": "[encoded data removed]",
            "text/plain": [
              "<Figure size 1440x360 with 4 Axes>"
            ]
          },
          "metadata": {
            "tags": []
          }
        }
      ]
    },
    {
      "cell_type": "code",
      "metadata": {
        "id": "JFuxqATe-Qns",
        "colab_type": "code",
        "outputId": "62cea047-d535-4985-b0c8-4614872046ce",
        "colab": {
          "base_uri": "https://localhost:8080/",
          "height": 34
        }
      },
      "source": [
        "X_test, X_fullsize_test, Y_test, contour_mask_test, y_pred = inference(models_cnn['simple'][6])"
      ],
      "execution_count": 0,
      "outputs": [
        {
          "output_type": "stream",
          "text": [
            "Dataset shape : (91, 64, 64, 1) (91, 1, 32, 32)\n"
          ],
          "name": "stdout"
        }
      ]
    },
    {
      "cell_type": "code",
      "metadata": {
        "id": "EgnErUzM-YfF",
        "colab_type": "code",
        "outputId": "524c8d4c-5334-48a1-c09d-3401530c343d",
        "colab": {
          "base_uri": "https://localhost:8080/",
          "height": 84
        }
      },
      "source": [
        "\n",
        "inference_sae_loss = {k:inferenceAE(X_fullsize_test, y_pred, contour_mask_test, v[3]) \n",
        "                          for k,v in models_sae_loss.items()}\n",
        "metrics_sae_loss_inf = {k:utils.stats_results(v[1], v[2]) for k, v in inference_sae_loss.items()}\n",
        "print('model - DM: Test (Train), CC: Test (Train)')\n",
        "for (k, v), (k1,v1) in zip(metrics_sae_loss_inf.items(),metrics_sae_loss.items()):\n",
        "    print('%s - DM: %.1f%% (%.1f%%), CC: %.1f (%.1f)' % (k, 100*v[0].mean(), 100*v1[0].mean(), \n",
        "                                                     v[1].mean(), v1[1].mean()))"
      ],
      "execution_count": 0,
      "outputs": [
        {
          "output_type": "stream",
          "text": [
            "model - DM: Test (Train), CC: Test (Train)\n",
            "customized_loss + MSE - DM: 3.2% (4.6%), CC: -3.6 (-90.8)\n",
            "MSE + MSE - DM: 34.2% (34.5%), CC: -17.5 (-33.7)\n",
            "kullback_leibler_divergence + MSE - DM: 6.5% (6.2%), CC: -37.0 (-38.0)\n"
          ],
          "name": "stdout"
        }
      ]
    },
    {
      "cell_type": "code",
      "metadata": {
        "id": "dgPnj27P-no1",
        "colab_type": "code",
        "outputId": "14c1a1d9-980b-4f4d-ebc7-2057ea9a93e4",
        "colab": {
          "base_uri": "https://localhost:8080/",
          "height": 338
        }
      },
      "source": [
        "idx = 45\n",
        "f, ax = plt.subplots(ncols=len(metrics_sae_loss_inf)+1, figsize=(20,5))\n",
        "for i, (model, v) in enumerate(inference_sae_loss.items()):\n",
        "    ax[i].imshow(v[2][idx])\n",
        "    ax[i].set_title('%s\\nMean : %.2f' % (model, metrics_sae_loss_inf[model][0].mean()))\n",
        "ax[3].imshow(v[1][idx].reshape((64,64)))\n",
        "ax[3].set_title('Ground Truth')"
      ],
      "execution_count": 0,
      "outputs": [
        {
          "output_type": "execute_result",
          "data": {
            "text/plain": [
              "Text(0.5, 1.0, 'Ground Truth')"
            ]
          },
          "metadata": {
            "tags": []
          },
          "execution_count": 49
        },
        {
          "output_type": "display_data",
          "data": {
            "image/png": "[encoded data removed]",
            "text/plain": [
              "<Figure size 1440x360 with 4 Axes>"
            ]
          },
          "metadata": {
            "tags": []
          }
        }
      ]
    },
    {
      "cell_type": "code",
      "metadata": {
        "id": "yhDoOXq4-ra_",
        "colab_type": "code",
        "outputId": "42a28eb3-4b15-4466-b93a-c3f57a90b755",
        "colab": {
          "base_uri": "https://localhost:8080/",
          "height": 272
        }
      },
      "source": [
        "from skimage import measure\n",
        "# Find contours at a constant value of 0.8\n",
        "contours_truth = measure.find_contours(v[1][idx].reshape((64,64)), 0.8)\n",
        "contours_simple = measure.find_contours(inference_sae_loss['customized_loss + MSE'][2][idx], 0.8)\n",
        "contours_mse = measure.find_contours(inference_sae_loss['MSE + MSE'][2][idx], 0.8)\n",
        "\n",
        "fig, ax = plt.subplots()\n",
        "ax.imshow(v[0][idx].reshape((64,64)), cmap='gray')\n",
        "\n",
        "#for n, contour in enumerate(contours_truth):\n",
        "    #ax.plot(contour[:, 1], contour[:, 0], linewidth=2, color='green', label='Ground Truth')\n",
        "for n, contour in enumerate(contours_simple[:1]):\n",
        "    ax.plot(contour[:, 1], contour[:, 0], linewidth=2, color='red', label='Prediction Regular')\n",
        "for n, contour in enumerate(contours_mse[:1]):\n",
        "    ax.plot(contour[:, 1], contour[:, 0], linewidth=2, color='orange', label='Prediction All MSE')\n",
        "    \n",
        "ax.axis('image')\n",
        "ax.set_xticks([])\n",
        "ax.set_yticks([])\n",
        "plt.legend(bbox_to_anchor=(1,1))\n",
        "#plt.savefig('./Rapport/images/image_with_contour_truth_pred_SAE.png')"
      ],
      "execution_count": 0,
      "outputs": [
        {
          "output_type": "execute_result",
          "data": {
            "text/plain": [
              "<matplotlib.legend.Legend at 0x7f4dd31a5c50>"
            ]
          },
          "metadata": {
            "tags": []
          },
          "execution_count": 50
        },
        {
          "output_type": "display_data",
          "data": {
            "image/png": "[encoded data removed]",
            "text/plain": [
              "<Figure size 432x288 with 1 Axes>"
            ]
          },
          "metadata": {
            "tags": []
          }
        }
      ]
    },
    {
      "cell_type": "code",
      "metadata": {
        "id": "X1XU6ndA-wHg",
        "colab_type": "code",
        "colab": {}
      },
      "source": [
        ""
      ],
      "execution_count": 0,
      "outputs": []
    }
  ]
}